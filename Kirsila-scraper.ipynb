{
 "cells": [
  {
   "cell_type": "code",
   "execution_count": null,
   "id": "585f9bee-b7af-41fe-a0f7-a5ec93b8b3ad",
   "metadata": {},
   "outputs": [],
   "source": [
    "#webscraping function \n",
    "import pandas as pd\n",
    "def metacritic_scraper(year:int, page: int) -> pd.DataFrame:\n",
    "    #fetch webpage\n",
    "    url = f\"https://www.metacritic.com/browse/movies/score/metascore/year/filtered?year_selected={year}&sort=desc&view=detailed&page={page}\"\n",
    "    #construct Python request pool\n",
    "    response = http.request('GET',url,headers={'User-Agent':'Mozilla/5.0'})\n",
    "    datastring = str(response.data, \"utf-8\")\n",
    "    \n",
    "    #execute regular expressions \n",
    "    titles = title_regex.findall(datastring)\n",
    "    dates = date_regex.findall(datastring)\n",
    "    descriptions = description_regex.findall(datastring)\n",
    "    scores = score_regex.findall(datastring)\n",
    "    images = image_regex.findall(datastring)\n",
    "    #return unified collection  \n",
    "    print(\"title: \" , len(titles), \"date: \" , len(dates), \"description: \" , len(descriptions), \"score: \" , len(scores), \"image: \" , len(images))\n",
    "    dataset = {\"title\": titles, \"date\": dates, \"description\": descriptions, \"score\": scores, \"image\":images}\n",
    "    return pd.DataFrame(dataset) "
   ]
  }
 ],
 "metadata": {
  "kernelspec": {
   "display_name": "Python 3",
   "language": "python",
   "name": "python3"
  },
  "language_info": {
   "codemirror_mode": {
    "name": "ipython",
    "version": 3
   },
   "file_extension": ".py",
   "mimetype": "text/x-python",
   "name": "python",
   "nbconvert_exporter": "python",
   "pygments_lexer": "ipython3",
   "version": "3.8.8"
  }
 },
 "nbformat": 4,
 "nbformat_minor": 5
}
